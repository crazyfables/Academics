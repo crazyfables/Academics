{
  "nbformat": 4,
  "nbformat_minor": 0,
  "metadata": {
    "colab": {
      "name": "pylearning.ipynb",
      "version": "0.3.2",
      "provenance": [],
      "collapsed_sections": [],
      "include_colab_link": true
    },
    "kernelspec": {
      "name": "python3",
      "display_name": "Python 3"
    }
  },
  "cells": [
    {
      "cell_type": "markdown",
      "metadata": {
        "id": "view-in-github",
        "colab_type": "text"
      },
      "source": [
        "<a href=\"https://colab.research.google.com/github/crazyfables/Academics/blob/master/pylearning.ipynb\" target=\"_parent\"><img src=\"https://colab.research.google.com/assets/colab-badge.svg\" alt=\"Open In Colab\"/></a>"
      ]
    },
    {
      "cell_type": "code",
      "metadata": {
        "id": "HcQ0kQSSrO1H",
        "colab_type": "code",
        "outputId": "ed4aafb8-9268-4652-e25b-09a08471fedd",
        "colab": {
          "base_uri": "https://localhost:8080/",
          "height": 85
        }
      },
      "source": [
        "# an array or two dimensional list\n",
        "M = [[1, 2, 3],\n",
        "     [4, 5, 6],\n",
        "     [7, 8, 9]]\n",
        "\n",
        "print(M)\n",
        "col2 = [row[1] for row in M]\n",
        "  \n",
        "g = (sum(row) for row in M)\n",
        "print(next(g)) # prints row 1 sum\n",
        "print(next(g)) # prints row 2 sum\n",
        "print(next(g)) # prints row 3 sum\n"
      ],
      "execution_count": 23,
      "outputs": [
        {
          "output_type": "stream",
          "text": [
            "[[1, 2, 3], [4, 5, 6], [7, 8, 9]]\n",
            "6\n",
            "15\n",
            "24\n"
          ],
          "name": "stdout"
        }
      ]
    },
    {
      "cell_type": "code",
      "metadata": {
        "id": "puPPiC_Fr37e",
        "colab_type": "code",
        "outputId": "472dd049-eea7-499e-a7a7-944d13499b2a",
        "colab": {
          "base_uri": "https://localhost:8080/",
          "height": 68
        }
      },
      "source": [
        "a = list(range(4)) # creating a list 0-3, increasing by 1.\n",
        "print(a)\n",
        "\n",
        "b = list(range(-6, 7, 2)) # creates a list starting at -6 going up to 7, increasing by 2.\n",
        "print(b)\n",
        "\n",
        "c = list(range(-100, 11, 10)) # creating a list from -100 up to 11 jumping by 10\n",
        "print(c)"
      ],
      "execution_count": 0,
      "outputs": [
        {
          "output_type": "stream",
          "text": [
            "[0, 1, 2, 3]\n",
            "[-6, -4, -2, 0, 2, 4, 6]\n",
            "[-100, -90, -80, -70, -60, -50, -40, -30, -20, -10, 0, 10]\n"
          ],
          "name": "stdout"
        }
      ]
    },
    {
      "cell_type": "markdown",
      "metadata": {
        "id": "obyvgHXCu3bM",
        "colab_type": "text"
      },
      "source": [
        "Dictionaries store elements by key rather than position"
      ]
    },
    {
      "cell_type": "code",
      "metadata": {
        "id": "dW4LtWBqu1pk",
        "colab_type": "code",
        "colab": {
          "base_uri": "https://localhost:8080/",
          "height": 34
        },
        "outputId": "7bb50b27-6802-48d1-fee5-df4a63417c11"
      },
      "source": [
        "student = [{'lname' : 'Smith', 'fname': 'John', 'studentid' : '0001'},\n",
        "           {'lname' : 'Angel', 'fname': 'Karen', 'studentid' : '0002'}]\n",
        "\n",
        "print(student)"
      ],
      "execution_count": 1,
      "outputs": [
        {
          "output_type": "stream",
          "text": [
            "[{'lname': 'Smith', 'fname': 'John', 'studentid': '0001'}, {'lname': 'Angel', 'fname': 'Karen', 'studentid': '0002'}]\n"
          ],
          "name": "stdout"
        }
      ]
    },
    {
      "cell_type": "code",
      "metadata": {
        "id": "-26NLzW9NNs7",
        "colab_type": "code",
        "colab": {
          "base_uri": "https://localhost:8080/",
          "height": 289
        },
        "outputId": "2b7275c2-f7c5-471b-ec96-2aca03001b3b"
      },
      "source": [
        "# Dictionary practice\n",
        "# for the joy of making a dictionary. \n",
        "D = {}\n",
        "\n",
        "D['Name'] = 'Summer'\n",
        "D['Job'] = 'dev'\n",
        "D['birthyear'] = 1983\n",
        "print(D)\n",
        "\n",
        "# Let's create Bob, the world needs a Bob.\n",
        "bob1 = dict(name='Bob', job='dev', age=40)\n",
        "print(bob1['name'])\n",
        "\n",
        "# Bob is a swell guy and has been promoted to a working manager. \n",
        "# Avoid those meetings, Bob. \n",
        "bob1['job']= ['dev', 'mgr']\n",
        "print(bob1['job'][0]) # Bob has successfully avoided meetings and does what \n",
        "                      # he loves\n",
        "\n",
        "# more about Bob\n",
        "bob = {'name': {'first': 'Bob', 'last': 'Smith'},\n",
        "       'job' : ['dev', 'mgr'],\n",
        "       'age': 40}\n",
        "print('\\n')\n",
        "# a most heinously formatted string as I ever saw\n",
        "def printEmployee(a):\n",
        "  print('Last Name: {} \\n' \\\n",
        "        'First Name: {} \\n' \\\n",
        "        'Age: {} \\n' \\\n",
        "        'Job(s): {}'.format(a['name']['last'], a['name']['first'],\n",
        "                        a['age'], a['job']))\n",
        "\n",
        "printEmployee(bob) # Printing bob's employee profile, small as it is.\n",
        "\n",
        "print(\"\\nOne week later after much scurffufles...\")\n",
        "bob['job'].pop() # Bob did not make a good manager. Poor Bob.\n",
        "printEmployee(bob) # verifying that Bob is not a manager. \n",
        "print(\"Bob wants everyone to know that he is a man of the people.\")\n",
        "\n",
        "bob = 0 # Clearing the memory allocation for Bob as he has become a non-person"
      ],
      "execution_count": 17,
      "outputs": [
        {
          "output_type": "stream",
          "text": [
            "{'Name': 'Summer', 'Job': 'dev', 'birthyear': 1983}\n",
            "Bob\n",
            "dev\n",
            "\n",
            "\n",
            "Last Name: Smith \n",
            "First Name: Bob \n",
            "Age: 40 \n",
            "Job(s): ['dev', 'mgr']\n",
            "\n",
            "One week later after much scurffufles...\n",
            "Last Name: Smith \n",
            "First Name: Bob \n",
            "Age: 40 \n",
            "Job(s): ['dev']\n",
            "Bob wants everyone to know that he is a man of the people.\n"
          ],
          "name": "stdout"
        }
      ]
    },
    {
      "cell_type": "code",
      "metadata": {
        "id": "q2_EJOsoAC3E",
        "colab_type": "code",
        "colab": {
          "base_uri": "https://localhost:8080/",
          "height": 357
        },
        "outputId": "d599eb4f-cacb-4d20-d2cf-e22bd01e3d36"
      },
      "source": [
        "# Time to do some error checking\n",
        "D = {'a' : 1, 'b' : 'pizza', 'c' : True}\n",
        "print(D)\n",
        "if not 'd' in D:\n",
        "  print('d is not present in D, you D(ig)?') \n",
        "\n",
        "D['f'] = 3\n",
        "D['e'] = 'r'\n",
        "D['d'] = 'no, I don\\'t think so.'\n",
        "\n",
        "Ks = list(D.keys())\n",
        "print(\"Keys of D: {}\".format(Ks))\n",
        "\n",
        "# sorting the keys in order and then printing the contents of D in order. \n",
        "# by using another variable to hold the keys\n",
        "Ks.sort()\n",
        "print(\"\\nPrinting with a key variable\")\n",
        "for key in Ks:\n",
        "  print(key, '=>', D[key])\n",
        "\n",
        "# Give me some room to work with\n",
        "print(\"\\n\")\n",
        "\n",
        "# screw that, let's sort without a key master... variable... yeah...\n",
        "print(\"Printing without a key variable\")\n",
        "for key in sorted(D):\n",
        "  print(key, '=>', D[key])\n",
        "\n",
        "\n"
      ],
      "execution_count": 33,
      "outputs": [
        {
          "output_type": "stream",
          "text": [
            "{'a': 1, 'b': 'pizza', 'c': True}\n",
            "d is not present in D, you D(ig)?\n",
            "Keys of D: ['a', 'b', 'c', 'f', 'e', 'd']\n",
            "\n",
            "Printing with a key variable\n",
            "a => 1\n",
            "b => pizza\n",
            "c => True\n",
            "d => no, I don't think so.\n",
            "e => r\n",
            "f => 3\n",
            "\n",
            "\n",
            "Printing without a key variable\n",
            "a => 1\n",
            "b => pizza\n",
            "c => True\n",
            "d => no, I don't think so.\n",
            "e => r\n",
            "f => 3\n"
          ],
          "name": "stdout"
        }
      ]
    },
    {
      "cell_type": "code",
      "metadata": {
        "id": "dCpt-xxUGRg4",
        "colab_type": "code",
        "colab": {
          "base_uri": "https://localhost:8080/",
          "height": 102
        },
        "outputId": "94bab7d7-94cd-4f2f-f1c8-eebd3ac9204a"
      },
      "source": [
        "# don't be a square, man.\n",
        "squares = [x ** 2 for x in [1, 2, 3, 4, 5, 6, 7, 8, 9, 10]]\n",
        "print(squares)\n",
        "\n",
        "# tuples... \n",
        "# creating a tuple 1-5 \n",
        "t = tuple(range(1, 6))\n",
        "print(t)\n",
        "# adding 4 more values to the tuple\n",
        "t = t + tuple(range(5, 9))\n",
        "print(t)\n",
        "print(\"index of 4: {}\".format(t.index(4)))\n",
        "print(\"times 5 appears in tuple: {}\".format(t.count(5)))\n",
        "\n"
      ],
      "execution_count": 53,
      "outputs": [
        {
          "output_type": "stream",
          "text": [
            "[1, 4, 9, 16, 25, 36, 49, 64, 81, 100]\n",
            "(1, 2, 3, 4, 5)\n",
            "(1, 2, 3, 4, 5, 5, 6, 7, 8)\n",
            "index of 4: 3\n",
            "times 5 appears in tuple: 2\n"
          ],
          "name": "stdout"
        }
      ]
    }
  ]
}