{
  "nbformat": 4,
  "nbformat_minor": 0,
  "metadata": {
    "colab": {
      "name": "pylearning.ipynb",
      "version": "0.3.2",
      "provenance": [],
      "include_colab_link": true
    },
    "kernelspec": {
      "name": "python3",
      "display_name": "Python 3"
    }
  },
  "cells": [
    {
      "cell_type": "markdown",
      "metadata": {
        "id": "view-in-github",
        "colab_type": "text"
      },
      "source": [
        "<a href=\"https://colab.research.google.com/github/crazyfables/Academics/blob/master/pylearning.ipynb\" target=\"_parent\"><img src=\"https://colab.research.google.com/assets/colab-badge.svg\" alt=\"Open In Colab\"/></a>"
      ]
    },
    {
      "cell_type": "markdown",
      "metadata": {
        "id": "9iWotAVgrThN",
        "colab_type": "text"
      },
      "source": [
        "Lists and stuff\n"
      ]
    },
    {
      "cell_type": "code",
      "metadata": {
        "id": "HcQ0kQSSrO1H",
        "colab_type": "code",
        "outputId": "6b3b95bf-34dd-4567-9039-1d1659b93721",
        "colab": {
          "base_uri": "https://localhost:8080/",
          "height": 34
        }
      },
      "source": [
        "# an array or two dimensional list\n",
        "M = [[1, 2, 3],\n",
        "     [4, 5, 6],\n",
        "     [7, 8, 9]]\n",
        "\n",
        "  \n",
        "col2 = [row[1] for row in M]\n",
        "  \n",
        "g = (sum(row) for row in M)\n",
        "next(g)\n"
      ],
      "execution_count": 0,
      "outputs": [
        {
          "output_type": "execute_result",
          "data": {
            "text/plain": [
              "6"
            ]
          },
          "metadata": {
            "tags": []
          },
          "execution_count": 25
        }
      ]
    },
    {
      "cell_type": "code",
      "metadata": {
        "id": "puPPiC_Fr37e",
        "colab_type": "code",
        "outputId": "472dd049-eea7-499e-a7a7-944d13499b2a",
        "colab": {
          "base_uri": "https://localhost:8080/",
          "height": 68
        }
      },
      "source": [
        "a = list(range(4))\n",
        "print(a)\n",
        "b = list(range(-6, 7, 2))\n",
        "print(b)\n",
        "c = list(range(-100, 11, 10))\n",
        "print(c)"
      ],
      "execution_count": 0,
      "outputs": [
        {
          "output_type": "stream",
          "text": [
            "[0, 1, 2, 3]\n",
            "[-6, -4, -2, 0, 2, 4, 6]\n",
            "[-100, -90, -80, -70, -60, -50, -40, -30, -20, -10, 0, 10]\n"
          ],
          "name": "stdout"
        }
      ]
    },
    {
      "cell_type": "markdown",
      "metadata": {
        "id": "obyvgHXCu3bM",
        "colab_type": "text"
      },
      "source": [
        "Dictionaries store elements by key rather than position"
      ]
    },
    {
      "cell_type": "code",
      "metadata": {
        "id": "dW4LtWBqu1pk",
        "colab_type": "code",
        "colab": {
          "base_uri": "https://localhost:8080/",
          "height": 34
        },
        "outputId": "7bb50b27-6802-48d1-fee5-df4a63417c11"
      },
      "source": [
        "student = [{'lname' : 'Smith', 'fname': 'John', 'studentid' : '0001'},\n",
        "           {'lname' : 'Angel', 'fname': 'Karen', 'studentid' : '0002'}]\n",
        "\n",
        "print(student)"
      ],
      "execution_count": 1,
      "outputs": [
        {
          "output_type": "stream",
          "text": [
            "[{'lname': 'Smith', 'fname': 'John', 'studentid': '0001'}, {'lname': 'Angel', 'fname': 'Karen', 'studentid': '0002'}]\n"
          ],
          "name": "stdout"
        }
      ]
    },
    {
      "cell_type": "code",
      "metadata": {
        "id": "-26NLzW9NNs7",
        "colab_type": "code",
        "colab": {
          "base_uri": "https://localhost:8080/",
          "height": 170
        },
        "outputId": "44e54e4c-ed80-46c5-bd4a-7867157063f3"
      },
      "source": [
        "# Dictionary practice\n",
        "# for the joy of making a dictionary. \n",
        "D = {}\n",
        "\n",
        "D['Name'] = 'Summer'\n",
        "D['Job'] = 'dev'\n",
        "D['birthyear'] = 1983\n",
        "print(D)\n",
        "\n",
        "# Let's create Bob, the world needs a Bob.\n",
        "bob1 = dict(name='Bob', job='dev', age=40)\n",
        "print(bob1['name'])\n",
        "\n",
        "# Bob is a swell guy and has been promoted to a working manager. \n",
        "# Avoid those meetings, Bob. \n",
        "bob1['job']= ['dev', 'mgr']\n",
        "print(bob1['job'][0]) # Bob has successfully avoided meetings and does what \n",
        "                      # he loves\n",
        "\n",
        "# more about Bob\n",
        "bob = {'name': {'first': 'Bob', 'last': 'Smith'},\n",
        "       'job' : ['dev', 'mgr'],\n",
        "       'age': 40}\n",
        "print('\\n')\n",
        "# a most heinously formatted string as I ever saw\n",
        "print('Last Name: {} \\n' \\\n",
        "      'First Name: {} \\n' \\\n",
        "      'Age: {} \\n' \\\n",
        "      'Job(s): {}'.format(bob['name']['last'], bob['name']['first'],\n",
        "                       bob['age'], bob['job'][0] + ' ' + bob['job'][1]))"
      ],
      "execution_count": 7,
      "outputs": [
        {
          "output_type": "stream",
          "text": [
            "{'Name': 'Summer', 'Job': 'dev', 'birthyear': 1983}\n",
            "Bob\n",
            "dev\n",
            "\n",
            "\n",
            "Last Name: Smith \n",
            "First Name: Bob \n",
            "Age: 40 \n",
            "Job(s): dev mgr\n"
          ],
          "name": "stdout"
        }
      ]
    }
  ]
}